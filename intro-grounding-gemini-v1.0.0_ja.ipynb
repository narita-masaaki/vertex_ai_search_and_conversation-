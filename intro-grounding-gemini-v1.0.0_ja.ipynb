{
  "cells": [
    {
      "cell_type": "code",
      "execution_count": null,
      "metadata": {
        "id": "ur8xi4C7S06n"
      },
      "outputs": [],
      "source": [
        "# Copyright 2024 Google LLC\n",
        "#\n",
        "# Licensed under the Apache License, Version 2.0 (the \"License\");\n",
        "# you may not use this file except in compliance with the License.\n",
        "# You may obtain a copy of the License at\n",
        "#\n",
        "#     https://www.apache.org/licenses/LICENSE-2.0\n",
        "#\n",
        "# Unless required by applicable law or agreed to in writing, software\n",
        "# distributed under the License is distributed on an \"AS IS\" BASIS,\n",
        "# WITHOUT WARRANTIES OR CONDITIONS OF ANY KIND, either express or implied.\n",
        "# See the License for the specific language governing permissions and\n",
        "# limitations under the License."
      ]
    },
    {
      "cell_type": "markdown",
      "metadata": {
        "id": "JAPoU8Sm5E6e"
      },
      "source": [
        "# Getting Started with Grounding with Gemini in Vertex AI\n",
        "\n",
        "<table align=\"left\">\n",
        "  <td style=\"text-align: center\">\n",
        "    <a href=\"https://colab.research.google.com/github/GoogleCloudPlatform/generative-ai/blob/main/gemini/grounding/intro-grounding-gemini.ipynb\">\n",
        "      <img width=\"32px\" src=\"https://www.gstatic.com/pantheon/images/bigquery/welcome_page/colab-logo.svg\" alt=\"Google Colaboratory logo\"><br> Run in Colab\n",
        "    </a>\n",
        "  </td>\n",
        "  <td style=\"text-align: center\">\n",
        "    <a href=\"https://console.cloud.google.com/vertex-ai/colab/import/https:%2F%2Fraw.githubusercontent.com%2FGoogleCloudPlatform%2Fgenerative-ai%2Fmain%2Fgemini%2Fgrounding%2Fintro-grounding-gemini.ipynb\">\n",
        "      <img width=\"32px\" src=\"https://lh3.googleusercontent.com/JmcxdQi-qOpctIvWKgPtrzZdJJK-J3sWE1RsfjZNwshCFgE_9fULcNpuXYTilIR2hjwN\" alt=\"Google Cloud Colab Enterprise logo\"><br> Run in Colab Enterprise\n",
        "    </a>\n",
        "  </td>\n",
        "  <td style=\"text-align: center\">\n",
        "    <a href=\"https://github.com/GoogleCloudPlatform/generative-ai/blob/main/gemini/grounding/intro-grounding-gemini.ipynb\">\n",
        "      <img width=\"32px\" src=\"https://upload.wikimedia.org/wikipedia/commons/9/91/Octicons-mark-github.svg\" alt=\"GitHub logo\"><br> View on GitHub\n",
        "    </a>\n",
        "  </td>\n",
        "  <td style=\"text-align: center\">\n",
        "    <a href=\"https://console.cloud.google.com/vertex-ai/workbench/deploy-notebook?download_url=https://raw.githubusercontent.com/GoogleCloudPlatform/generative-ai/main/gemini/grounding/intro-grounding-gemini.ipynb\">\n",
        "      <img src=\"https://www.gstatic.com/images/branding/gcpiconscolors/vertexai/v1/32px.svg\" alt=\"Vertex AI logo\"><br> Open in Vertex AI Workbench\n",
        "    </a>\n",
        "  </td>\n",
        "</table>"
      ]
    },
    {
      "cell_type": "markdown",
      "metadata": {
        "id": "49e1e41cea0d"
      },
      "source": [
        "| | |\n",
        "|-|-|\n",
        "|Author(s) | [Holt Skinner](https://github.com/holtskinner), [Kristopher Overholt](https://github.com/koverholt) |"
      ]
    },
    {
      "cell_type": "markdown",
      "metadata": {
        "id": "24743cf4a1e1"
      },
      "source": [
        "**_NOTE_**: このノートブックは以下の環境でテストされています:\n",
        "\n",
        "* Python version = 3.11"
      ]
    },
    {
      "cell_type": "markdown",
      "metadata": {
        "id": "tvgnzT1CKxrO"
      },
      "source": [
        "## 概要\n",
        "\n",
        "[Vertex AI のグラウンディング](https://cloud.google.com/vertex-ai/generative-ai/docs/multimodal/ground-gemini) を使用すると、生成テキスト モデルを使用して、独自のドキュメントやデータに基づいたコンテンツを生成できます。この機能により、モデルは実行時にトレーニング データを超える情報にアクセスできます。モデルの応答を Google 検索結果または [Vertex AI Search](https://cloud.google.com/generative-ai-app-builder/docs/enterprise-search-introduction) 内のデータ ストアにグラウンディングすることで、データに基づいた LLM はより正確で最新の関連性の高い応答を生成できます。\n",
        "\n",
        "グラウンディングには、次の利点があります。\n",
        "\n",
        "- モデルの幻覚（モデルが事実に基づかないコンテンツを生成するインスタンス）を削減します。\n",
        "- モデルの応答を特定の情報、ドキュメント、およびデータ ソースに固定します。\n",
        "- 生成されたコンテンツの信頼性、精度、および適用性を強化します。\n",
        "\n",
        "Vertex AI のグラウンディングのコンテキストでは、2 つの異なるグラウンディング ソースを構成できます。\n",
        "\n",
        "1. 公開され、インデックス付けされているデータの Google 検索結果\n",
        "2. [Vertex AI Search のデータ ストア](https://cloud.google.com/generative-ai-app-builder/docs/create-datastore-ingest)。これには、ウェブサイト データ、非構造化データ、または構造化データの形式で独自のデータを含めることができます。\n",
        "\n",
        "### 許可リスト\n",
        "\n",
        "このサンプル ノートブックの一部の機能では、許可リストを介して特定の機能にアクセスする必要があります。 [Vertex AI Search を使用した Grounding](https://cloud.google.com/vertex-ai/generative-ai/docs/multimodal/ground-gemini) はパブリック プレビューで利用できますが、Google 検索結果を使用した Grounding は一般公開されています。\n",
        "\n",
        "このサービスを本番環境アプリケーションで使用する場合は、[Google 検索エントリ ポイントを使用する](https://cloud.google.com/vertex-ai/generative-ai/docs/multimodal/grounding-search-entry-points) も必要になります。"
      ]
    },
    {
      "cell_type": "markdown",
      "metadata": {
        "id": "d975e698c9a4"
      },
      "source": [
        "### 目的\n",
        "\n",
        "このチュートリアルでは、次の方法を学習します。\n",
        "\n",
        "- Google 検索結果に基づいた LLM テキストおよびチャット モデル応答を生成する\n",
        "- 非グラウンディング LLM 応答とグラウンディング LLM 応答の結果を比較する\n",
        "- Vertex AI Search でデータ ストアを作成して使用し、カスタム ドキュメントとデータに応答をグラウンディングする\n",
        "- Vertex AI Search の結果に基づいた LLM テキストおよびチャット モデル応答を生成する\n",
        "\n",
        "このチュートリアルでは、次の Google Cloud AI サービスとリソースを使用します。\n",
        "\n",
        "- Vertex AI\n",
        "- Vertex AI Search and Conversation\n",
        "\n",
        "実行する手順は次のとおりです。\n",
        "\n",
        "- LLM を構成し、さまざまな例のプロンプトを送信する\n",
        "- Vertex AI の生成テキストおよびチャット モデルに例のプロンプトを送信する\n",
        "- 独自のデータを使用して Vertex AI Search にデータ ストアを設定する\n",
        "- さまざまなレベルのグラウンディング (グラウンディングなし、ウェブ グラウンディング、データ ストア グラウンディング) で例のプロンプトを送信する"
      ]
    },
    {
      "cell_type": "markdown",
      "metadata": {
        "id": "BF1j6f9HApxa"
      },
      "source": [
        "## 始める前に\n",
        "\n",
        "### Google Cloud プロジェクトをセットアップする\n",
        "\n",
        "**ノートブックの環境に関係なく、次の手順が必要です。**\n",
        "\n",
        "1. [Google Cloud プロジェクトを選択または作成します](https://console.cloud.google.com/cloud-resource-manager)。初めてアカウントを作成すると、コンピューティング/ストレージ費用に対して 300 ドルの無料クレジットが付与されます。\n",
        "\n",
        "1. [プロジェクトで課金が有効になっていることを確認します](https://cloud.google.com/billing/docs/how-to/modify-project)。\n",
        "\n",
        "1. [Vertex AI および Vertex AI Agent Builder API](https://console.cloud.google.com/flows/enableapi?apiid=aiplatform.googleapis.com,discoveryengine.googleapis.com) を有効にします。\n",
        "\n",
        "1. このノートブックをローカルで実行している場合は、[Cloud SDK](https://cloud.google.com/sdk) をインストールする必要があります。"
      ]
    },
    {
      "cell_type": "markdown",
      "metadata": {
        "id": "i7EUnXsZhAGF"
      },
      "source": [
        "### インストール\n",
        "\n",
        "このノートブックを実行するために必要な次のパッケージをインストールします。"
      ]
    },
    {
      "cell_type": "code",
      "execution_count": 1,
      "metadata": {
        "id": "2b4ef9b72d43"
      },
      "outputs": [
        {
          "name": "stdout",
          "output_type": "stream",
          "text": [
            "\u001b[33mWARNING: You are using pip version 21.2.4; however, version 24.3.1 is available.\n",
            "You should consider upgrading via the '/Library/Developer/CommandLineTools/usr/bin/python3 -m pip install --upgrade pip' command.\u001b[0m\n",
            "Note: you may need to restart the kernel to use updated packages.\n"
          ]
        }
      ],
      "source": [
        "%pip install --upgrade --user --quiet google-cloud-aiplatform"
      ]
    },
    {
      "cell_type": "markdown",
      "metadata": {
        "id": "58707a750154"
      },
      "source": [
        "パッケージをインストールした後、カーネルを再起動します。"
      ]
    },
    {
      "cell_type": "code",
      "execution_count": 2,
      "metadata": {
        "id": "f200f10a1da3"
      },
      "outputs": [
        {
          "data": {
            "text/plain": [
              "{'status': 'ok', 'restart': True}"
            ]
          },
          "execution_count": 2,
          "metadata": {},
          "output_type": "execute_result"
        }
      ],
      "source": [
        "import IPython\n",
        "\n",
        "app = IPython.Application.instance()\n",
        "app.kernel.do_shutdown(True)"
      ]
    },
    {
      "cell_type": "markdown",
      "metadata": {
        "id": "bb05997a457d"
      },
      "source": [
        "<div class=\"alert alert-block alert-warning\">\n",
        "<b>⚠️ カーネルが再起動します。次のステップに進む前に、完了するまでお待ちください。 ⚠️</b>\n",
        "</div>"
      ]
    },
    {
      "cell_type": "markdown",
      "metadata": {
        "id": "sBCra4QMA2wR"
      },
      "source": [
        "### Google Cloud アカウントを認証する\n",
        "\n",
        "このノートブックを Google Colab で実行している場合は、環境を認証する必要があります。これを行うには、以下の新しいセルを実行します。Vertex AI Workbench を使用している場合、この手順は必要ありません。"
      ]
    },
    {
      "cell_type": "code",
      "execution_count": 3,
      "metadata": {
        "id": "603adbbf0532"
      },
      "outputs": [],
      "source": [
        "import sys\n",
        "\n",
        "if \"google.colab\" in sys.modules:\n",
        "    # Authenticate user to Google Cloud\n",
        "    from google.colab import auth\n",
        "\n",
        "    auth.authenticate_user()"
      ]
    },
    {
      "cell_type": "markdown",
      "metadata": {
        "id": "WReHDGG5g0XY"
      },
      "source": [
        "### Google Cloud プロジェクト情報を設定し、Vertex AI SDK を初期化します\n",
        "\n",
        "Vertex AI の使用を開始するには、既存の Google Cloud プロジェクトがあり、[Vertex AI API を有効にする](https://console.cloud.google.com/flows/enableapi?apiid=aiplatform.googleapis.com) 必要があります。\n",
        "\n",
        "[プロジェクトと開発環境の設定](https://cloud.google.com/vertex-ai/docs/start/cloud-environment) について詳しくは、こちらをご覧ください。\n",
        "\n",
        "**プロジェクト ID がわからない場合** は、次の操作を試してください。\n",
        "* `gcloud config list` を実行します。\n",
        "* `gcloud projects list` を実行します。\n",
        "* サポート ページをご覧ください: [プロジェクト ID を見つける](https://support.google.com/googleapi/answer/7014113)\n",
        "\n",
        "Vertex AI で使用される `REGION` 変数を変更することもできます。 [Vertex AI リージョン](https://cloud.google.com/vertex-ai/docs/general/locations) の詳細をご覧ください。"
      ]
    },
    {
      "cell_type": "code",
      "execution_count": 4,
      "metadata": {
        "id": "oM1iC_MfAts1"
      },
      "outputs": [],
      "source": [
        "PROJECT_ID = \"YOUR_PROJECT_ID\"  # @param {type:\"string\"}\n",
        "REGION = \"YOUR_REGION\"  # @param {type: \"string\"}"
      ]
    },
    {
      "cell_type": "code",
      "execution_count": 5,
      "metadata": {
        "id": "init_aip:mbsdk,all"
      },
      "outputs": [
        {
          "name": "stderr",
          "output_type": "stream",
          "text": [
            "/Users/yamamoto.akihiro/Library/Python/3.9/lib/python/site-packages/urllib3/__init__.py:35: NotOpenSSLWarning: urllib3 v2 only supports OpenSSL 1.1.1+, currently the 'ssl' module is compiled with 'LibreSSL 2.8.3'. See: https://github.com/urllib3/urllib3/issues/3020\n",
            "  warnings.warn(\n"
          ]
        },
        {
          "ename": "ValueError",
          "evalue": "Unsupported region for Vertex AI, select from frozenset({'europe-west6', 'asia-northeast3', 'us-west2', 'us-east4', 'us-west3', 'australia-southeast2', 'europe-west8', 'europe-southwest1', 'us-west1', 'me-central1', 'asia-northeast2', 'europe-north1', 'europe-central2', 'me-central2', 'europe-west4', 'us-south1', 'asia-south1', 'australia-southeast1', 'me-west1', 'asia-east1', 'us-east1', 'asia-southeast2', 'asia-east2', 'europe-west1', 'africa-south1', 'asia-southeast1', 'asia-northeast1', 'us-central1', 'southamerica-west1', 'europe-west2', 'northamerica-northeast2', 'southamerica-east1', 'us-east5', 'europe-west12', 'europe-west3', 'us-west4', 'europe-west9', 'northamerica-northeast1'})",
          "output_type": "error",
          "traceback": [
            "\u001b[0;31m---------------------------------------------------------------------------\u001b[0m",
            "\u001b[0;31mValueError\u001b[0m                                Traceback (most recent call last)",
            "Cell \u001b[0;32mIn[5], line 3\u001b[0m\n\u001b[1;32m      1\u001b[0m \u001b[38;5;28;01mimport\u001b[39;00m \u001b[38;5;21;01mvertexai\u001b[39;00m\n\u001b[0;32m----> 3\u001b[0m \u001b[43mvertexai\u001b[49m\u001b[38;5;241;43m.\u001b[39;49m\u001b[43minit\u001b[49m\u001b[43m(\u001b[49m\u001b[43mproject\u001b[49m\u001b[38;5;241;43m=\u001b[39;49m\u001b[43mPROJECT_ID\u001b[49m\u001b[43m,\u001b[49m\u001b[43m \u001b[49m\u001b[43mlocation\u001b[49m\u001b[38;5;241;43m=\u001b[39;49m\u001b[43mREGION\u001b[49m\u001b[43m)\u001b[49m\n",
            "File \u001b[0;32m~/Library/Python/3.9/lib/python/site-packages/google/cloud/aiplatform/initializer.py:241\u001b[0m, in \u001b[0;36m_Config.init\u001b[0;34m(self, project, location, experiment, experiment_description, experiment_tensorboard, staging_bucket, credentials, encryption_spec_key_name, network, service_account, api_endpoint, api_key, api_transport, request_metadata)\u001b[0m\n\u001b[1;32m    239\u001b[0m         \u001b[38;5;28;01mraise\u001b[39;00m \u001b[38;5;167;01mValueError\u001b[39;00m(\u001b[38;5;124mf\u001b[39m\u001b[38;5;124m\"\u001b[39m\u001b[38;5;132;01m{\u001b[39;00mapi_transport\u001b[38;5;132;01m}\u001b[39;00m\u001b[38;5;124m is not supported with API keys. \u001b[39m\u001b[38;5;124m\"\u001b[39m)\n\u001b[1;32m    240\u001b[0m \u001b[38;5;28;01mif\u001b[39;00m location:\n\u001b[0;32m--> 241\u001b[0m     \u001b[43mutils\u001b[49m\u001b[38;5;241;43m.\u001b[39;49m\u001b[43mvalidate_region\u001b[49m\u001b[43m(\u001b[49m\u001b[43mlocation\u001b[49m\u001b[43m)\u001b[49m\n\u001b[1;32m    242\u001b[0m \u001b[38;5;28;01mif\u001b[39;00m experiment_description \u001b[38;5;129;01mand\u001b[39;00m experiment \u001b[38;5;129;01mis\u001b[39;00m \u001b[38;5;28;01mNone\u001b[39;00m:\n\u001b[1;32m    243\u001b[0m     \u001b[38;5;28;01mraise\u001b[39;00m \u001b[38;5;167;01mValueError\u001b[39;00m(\n\u001b[1;32m    244\u001b[0m         \u001b[38;5;124m\"\u001b[39m\u001b[38;5;124mExperiment needs to be set in `init` in order to add experiment descriptions.\u001b[39m\u001b[38;5;124m\"\u001b[39m\n\u001b[1;32m    245\u001b[0m     )\n",
            "File \u001b[0;32m~/Library/Python/3.9/lib/python/site-packages/google/cloud/aiplatform/utils/__init__.py:314\u001b[0m, in \u001b[0;36mvalidate_region\u001b[0;34m(region)\u001b[0m\n\u001b[1;32m    312\u001b[0m region \u001b[38;5;241m=\u001b[39m region\u001b[38;5;241m.\u001b[39mlower()\n\u001b[1;32m    313\u001b[0m \u001b[38;5;28;01mif\u001b[39;00m region \u001b[38;5;129;01mnot\u001b[39;00m \u001b[38;5;129;01min\u001b[39;00m constants\u001b[38;5;241m.\u001b[39mSUPPORTED_REGIONS:\n\u001b[0;32m--> 314\u001b[0m     \u001b[38;5;28;01mraise\u001b[39;00m \u001b[38;5;167;01mValueError\u001b[39;00m(\n\u001b[1;32m    315\u001b[0m         \u001b[38;5;124mf\u001b[39m\u001b[38;5;124m\"\u001b[39m\u001b[38;5;124mUnsupported region for Vertex AI, select from \u001b[39m\u001b[38;5;132;01m{\u001b[39;00mconstants\u001b[38;5;241m.\u001b[39mSUPPORTED_REGIONS\u001b[38;5;132;01m}\u001b[39;00m\u001b[38;5;124m\"\u001b[39m\n\u001b[1;32m    316\u001b[0m     )\n\u001b[1;32m    318\u001b[0m \u001b[38;5;28;01mreturn\u001b[39;00m \u001b[38;5;28;01mTrue\u001b[39;00m\n",
            "\u001b[0;31mValueError\u001b[0m: Unsupported region for Vertex AI, select from frozenset({'europe-west6', 'asia-northeast3', 'us-west2', 'us-east4', 'us-west3', 'australia-southeast2', 'europe-west8', 'europe-southwest1', 'us-west1', 'me-central1', 'asia-northeast2', 'europe-north1', 'europe-central2', 'me-central2', 'europe-west4', 'us-south1', 'asia-south1', 'australia-southeast1', 'me-west1', 'asia-east1', 'us-east1', 'asia-southeast2', 'asia-east2', 'europe-west1', 'africa-south1', 'asia-southeast1', 'asia-northeast1', 'us-central1', 'southamerica-west1', 'europe-west2', 'northamerica-northeast2', 'southamerica-east1', 'us-east5', 'europe-west12', 'europe-west3', 'us-west4', 'europe-west9', 'northamerica-northeast1'})"
          ]
        },
        {
          "ename": "",
          "evalue": "",
          "output_type": "error",
          "traceback": [
            "\u001b[1;31m現在のセルまたは前のセルでコードを実行中に、カーネル (Kernel) がクラッシュしました。\n",
            "\u001b[1;31mエラーの原因を特定するには、セル内のコードを確認してください。\n",
            "\u001b[1;31m詳細については<a href='https://aka.ms/vscodeJupyterKernelCrash'>こちら</a>をクリックします。\n",
            "\u001b[1;31m詳細については、Jupyter <a href='command:jupyter.viewOutput'>ログ</a> を参照してください。"
          ]
        }
      ],
      "source": [
        "import vertexai\n",
        "\n",
        "vertexai.init(project=PROJECT_ID, location=REGION)"
      ]
    },
    {
      "cell_type": "markdown",
      "metadata": {
        "id": "960505627ddf"
      },
      "source": [
        "### Import libraries"
      ]
    },
    {
      "cell_type": "code",
      "execution_count": null,
      "metadata": {
        "id": "PyQmSRbKA8r-"
      },
      "outputs": [],
      "source": [
        "from IPython.display import Markdown, display\n",
        "from vertexai.generative_models import (\n",
        "    GenerationResponse,\n",
        "    GenerativeModel,\n",
        "    Tool,\n",
        "    grounding,\n",
        ")\n",
        "from vertexai.preview.generative_models import grounding as preview_grounding"
      ]
    },
    {
      "cell_type": "markdown",
      "metadata": {
        "id": "55cf2dd17690"
      },
      "source": [
        "Vertex AIからGeminiモデルを初期化する:"
      ]
    },
    {
      "cell_type": "code",
      "execution_count": null,
      "metadata": {
        "id": "652a8969dd5a"
      },
      "outputs": [],
      "source": [
        "model = GenerativeModel(\"gemini-1.5-pro\")"
      ]
    },
    {
      "cell_type": "markdown",
      "metadata": {
        "id": "ff453ac772d4"
      },
      "source": [
        "## Helper functions"
      ]
    },
    {
      "cell_type": "code",
      "execution_count": null,
      "metadata": {
        "id": "3dce100cab74"
      },
      "outputs": [],
      "source": [
        "def print_grounding_response(response: GenerationResponse):\n",
        "    \"\"\"Prints Gemini response with grounding citations.\"\"\"\n",
        "    grounding_metadata = response.candidates[0].grounding_metadata\n",
        "\n",
        "    # Citation indices are in byte units\n",
        "    ENCODING = \"utf-8\"\n",
        "    text_bytes = response.text.encode(ENCODING)\n",
        "\n",
        "    prev_index = 0\n",
        "    markdown_text = \"\"\n",
        "\n",
        "    for grounding_support in grounding_metadata.grounding_supports:\n",
        "        text_segment = text_bytes[\n",
        "            prev_index : grounding_support.segment.end_index\n",
        "        ].decode(ENCODING)\n",
        "\n",
        "        footnotes_text = \"\"\n",
        "        for grounding_chunk_index in grounding_support.grounding_chunk_indices:\n",
        "            footnotes_text += f\"[{grounding_chunk_index + 1}]\"\n",
        "\n",
        "        markdown_text += f\"{text_segment} {footnotes_text}\\n\"\n",
        "        prev_index = grounding_support.segment.end_index\n",
        "\n",
        "    if prev_index < len(text_bytes):\n",
        "        markdown_text += str(text_bytes[prev_index:], encoding=ENCODING)\n",
        "\n",
        "    markdown_text += \"\\n----\\n## Grounding Sources\\n\"\n",
        "\n",
        "    if grounding_metadata.web_search_queries:\n",
        "        markdown_text += (\n",
        "            f\"\\n**Web Search Queries:** {grounding_metadata.web_search_queries}\\n\"\n",
        "        )\n",
        "        if grounding_metadata.search_entry_point:\n",
        "            markdown_text += f\"\\n**Search Entry Point:**\\n {grounding_metadata.search_entry_point.rendered_content}\\n\"\n",
        "    elif grounding_metadata.retrieval_queries:\n",
        "        markdown_text += (\n",
        "            f\"\\n**Retrieval Queries:** {grounding_metadata.retrieval_queries}\\n\"\n",
        "        )\n",
        "\n",
        "    markdown_text += \"### Grounding Chunks\\n\"\n",
        "\n",
        "    for index, grounding_chunk in enumerate(\n",
        "        grounding_metadata.grounding_chunks, start=1\n",
        "    ):\n",
        "        context = grounding_chunk.web or grounding_chunk.retrieved_context\n",
        "        if not context:\n",
        "            print(f\"Skipping Grounding Chunk {grounding_chunk}\")\n",
        "            continue\n",
        "\n",
        "        markdown_text += f\"{index}. [{context.title}]({context.uri})\\n\"\n",
        "\n",
        "    display(Markdown(markdown_text))"
      ]
    },
    {
      "cell_type": "markdown",
      "metadata": {
        "id": "e336da7161af"
      },
      "source": [
        "## 例: Google 検索結果でのグラウンディング\n",
        "\n",
        "この例では、グラウンディングなしの LLM 応答と、Google 検索の結果でグラウンディングされた応答を比較します。Google ストアの最近のハードウェア リリースについて質問します。"
      ]
    },
    {
      "cell_type": "code",
      "execution_count": null,
      "metadata": {
        "id": "6a28ca4abb52"
      },
      "outputs": [],
      "source": [
        "PROMPT = \"あなたは天文学の専門家です。アメリカで次に日食が起こるのはいつですか?\""
      ]
    },
    {
      "cell_type": "markdown",
      "metadata": {
        "id": "25955ce5d263"
      },
      "source": [
        "### グラウンディングなしのテキスト生成\n",
        "\n",
        "グラウンディングなしで LLM に予測リクエストを送信します。"
      ]
    },
    {
      "cell_type": "code",
      "execution_count": null,
      "metadata": {
        "id": "a2e348ff93e6"
      },
      "outputs": [],
      "source": [
        "response = model.generate_content(PROMPT)\n",
        "\n",
        "display(Markdown(response.text))"
      ]
    },
    {
      "cell_type": "markdown",
      "metadata": {
        "id": "5d7cb7cceb99"
      },
      "source": [
        "### Google 検索結果に基づいたテキスト生成\n",
        "\n",
        "これで、`grounding.GoogleSearchRetrieval()` の `grounding` ツールで `tools` キーワード引数を追加して、最初にプロンプ​​トを使用して Google 検索を実行し、次に Web 検索結果に基づいて回答を作成するように LLM に指示できます。\n",
        "\n",
        "検索クエリと [検索エントリ ポイント](https://cloud.google.com/vertex-ai/generative-ai/docs/multimodal/grounding-search-entry-points) は、応答内の各 `Candidate` で使用できます。ヘルパー関数 `print_grounding_response()` は、引用を含む応答テキストを出力します。"
      ]
    },
    {
      "cell_type": "code",
      "execution_count": null,
      "metadata": {
        "id": "1d9fb83b0ab9"
      },
      "outputs": [],
      "source": [
        "tool = Tool.from_google_search_retrieval(grounding.GoogleSearchRetrieval())\n",
        "\n",
        "response = model.generate_content(PROMPT, tools=[tool])\n",
        "\n",
        "print_grounding_response(response)"
      ]
    },
    {
      "cell_type": "markdown",
      "metadata": {
        "id": "6d3920bb2ac0"
      },
      "source": [
        "グラウンディングなしの応答には、LLM からの日食に関する限定された情報のみが含まれていることに注意してください。一方、Web 検索結果にグラウンディングされた応答には、グラウンディングありの LLM リクエストの一部として返される Web 検索結果からの最新情報が含まれています。"
      ]
    },
    {
      "cell_type": "markdown",
      "metadata": {
        "id": "77f0800f8762"
      },
      "source": [
        "## 例: カスタム ドキュメントとデータによるグラウンディング\n",
        "\n",
        "この例では、グラウンディングなしの LLM 応答と、[Vertex AI Search のデータ ストアの結果](https://cloud.google.com/generative-ai-app-builder/docs/create-datastore-ingest) にグラウンディングされた応答を比較します。[BigQuery のオブジェクト テーブル](https://cloud.google.com/bigquery/docs/object-table-introduction) を作成するための GoogleSQL クエリについて質問します。"
      ]
    },
    {
      "cell_type": "markdown",
      "metadata": {
        "id": "1b308548c68b"
      },
      "source": [
        "### Vertex AI Search でデータ ストアを作成する\n",
        "\n",
        "この例では、ドキュメントを含む Google Cloud ウェブサイトのコンテンツを含むウェブサイト ベースのデータ ストアを使用します。\n",
        "\n",
        "ラボの手順マニュアルの __タスク 4__ と __タスク 5__ を参照して、以下の手順を実行してください。データ ストアを作成したら、下のセルに入力する ID をメモしてください。\n",
        "\n",
        "Vertex AI Search ドキュメントのチュートリアルの手順に従って、次の操作を行います。\n",
        "\n",
        "1. [**含めるサイト**] フィールドで URL パターン `cloud.google.com/*` を使用する [ウェブサイト データを含むデータ ストアを作成](https://cloud.google.com/generative-ai-app-builder/docs/try-enterprise-search#create_a_data_store)。\n",
        "2. そのデータ ストアにアタッチされた [検索アプリを作成](https://cloud.google.com/generative-ai-app-builder/docs/try-enterprise-search#create_a_search_app)。また、データ ストア内のインデックス付きレコードを検索できるように、**Enterprise エディションの機能** も有効にする必要があります。\n",
        "\n",
        "注: データ ストアは、Gemini で使用しているプロジェクトと同じプロジェクト内にある必要があります。\n",
        "\n",
        "__データ ストアを作成したら、データ ストア ID を取得して以下に入力します。__\n",
        "\n",
        "注: グラウンディングでデータ ストアを使用する前に、データの取り込みが完了するまで待つ必要があります。詳細については、[データ ストアの作成](https://cloud.google.com/generative-ai-app-builder/docs/create-data-store-es) をご覧ください。"
      ]
    },
    {
      "cell_type": "code",
      "execution_count": null,
      "metadata": {
        "id": "fcd767476241"
      },
      "outputs": [],
      "source": [
        "DATA_STORE_PROJECT_ID = PROJECT_ID  # @param {type:\"string\"}\n",
        "DATA_STORE_REGION = \"global\"  # @param {type:\"string\"}\n",
        "# Replace this with your data store ID from Vertex AI Search\n",
        "DATA_STORE_ID = \"your-data-store-id_1234567890123\"  # @param {type:\"string\"}"
      ]
    },
    {
      "cell_type": "markdown",
      "metadata": {
        "id": "ccc156676e0a"
      },
      "source": [
        "ここで、BigQuery のオブジェクト テーブルとその使用タイミングについて質問してみましょう。"
      ]
    },
    {
      "cell_type": "code",
      "execution_count": null,
      "metadata": {
        "id": "9c1e1b1743bd"
      },
      "outputs": [],
      "source": [
        "PROMPT = \"BigQuery でオブジェクト テーブルを使用するのはいつですか? また、データはどのように保存されますか?\""
      ]
    },
    {
      "cell_type": "markdown",
      "metadata": {
        "id": "f365681544bb"
      },
      "source": [
        "### グラウンディングなしのテキスト生成\n",
        "\n",
        "グラウンディングなしで LLM に予測リクエストを送信します。"
      ]
    },
    {
      "cell_type": "code",
      "execution_count": null,
      "metadata": {
        "id": "299818ae71e9"
      },
      "outputs": [],
      "source": [
        "response = model.generate_content(PROMPT)\n",
        "\n",
        "display(Markdown(response.text))"
      ]
    },
    {
      "cell_type": "markdown",
      "metadata": {
        "id": "073f2ec42ff6"
      },
      "source": [
        "### Vertex AI 検索結果に基づいたテキスト生成\n",
        "\n",
        "これで、`tools` キーワード引数に `grounding.VertexAISearch()` というグラウンディング ツールを追加して、最初にカスタム データ ストア内で検索を実行し、次に関連ドキュメントに基づいて回答を作成するように LLM に指示できます。"
      ]
    },
    {
      "cell_type": "code",
      "execution_count": null,
      "metadata": {
        "id": "d4c5d53a37b4"
      },
      "outputs": [],
      "source": [
        "tool = Tool.from_retrieval(\n",
        "    preview_grounding.Retrieval(\n",
        "        preview_grounding.VertexAISearch(\n",
        "            datastore=DATA_STORE_ID,\n",
        "            project=DATA_STORE_PROJECT_ID,\n",
        "            location=DATA_STORE_REGION,\n",
        "        )\n",
        "    )\n",
        ")\n",
        "\n",
        "response = model.generate_content(PROMPT, tools=[tool])\n",
        "print_grounding_response(response)"
      ]
    },
    {
      "cell_type": "markdown",
      "metadata": {
        "id": "e3f985c704cd"
      },
      "source": [
        "根拠のない応答には、BigQuery のオブジェクト テーブルに関する LLM からの限られた情報しか含まれず、正確ではない可能性があることに注意してください。一方、Vertex AI Search の結果に根拠のある応答には、BigQuery に関する Google Cloud ドキュメントの最新情報と、その情報の引用が含まれています。\n",
        "\n",
        "<div class=\"alert alert-block alert-warning\">\n",
        "<b>⚠️ Important notes:</b><br>\n",
        "<br>\n",
        "<b>前のセルを実行したときにエラーが発生した場合:</b><br>\n",
        "&nbsp;&nbsp;&nbsp;&nbsp;このサンプルノートブックをVertex AI Searchのデータストアで動作させるには,<br>\n",
        "&nbsp;&nbsp;&nbsp;&nbsp;<a href=\"https://cloud.google.com/generative-ai-app-builder/docs/try-enterprise-search#create_a_data_store\">data store</a>を作成する必要があります。 <b>それと</b> Vertex AI Searchの<a href=\"https://cloud.google.com/generative-ai-app-builder/docs/try-enterprise-search#create_a_search_app\">search app</a> を有効にしてください。<br>\n",
        "&nbsp;&nbsp;&nbsp;&nbsp;data storeのみを作成すると、data storeに対してクエリを実行するときに、前の要求によってエラーが返されます。\n",
        "<br><br>\n",
        "<b>前のセルを実行したときに空の応答が返された場合:</b><br>\n",
        "&nbsp;&nbsp;&nbsp;&nbsp;グラウンディング付きデータ ストアを使用する前に、データの取り込みが完了するまで待つ必要があります。<br>\n",
        "&nbsp;&nbsp;&nbsp;&nbsp;詳細についてはこちらを参照してください <a href=\"https://cloud.google.com/generative-ai-app-builder/docs/create-data-store-es\">create a data store</a>.\n",
        "</div>\n",
        "</div>"
      ]
    },
    {
      "cell_type": "markdown",
      "metadata": {
        "id": "54562717e2a4"
      },
      "source": [
        "## 例: グラウンディングされたチャット応答\n",
        "\n",
        "Vertex AI でチャット モデルを操作するときにもグラウンディングを使用できます。この例では、グラウンディングのない LLM 応答と、Google 検索の結果と Vertex AI Search のデータ ストアにグラウンディングされた応答を比較します。\n",
        "\n",
        "Vertex AI に関する質問をし、続いて Vertex AI で管理されているデータセットに関する質問をします。"
      ]
    },
    {
      "cell_type": "code",
      "execution_count": null,
      "metadata": {
        "id": "490cf1ed3399"
      },
      "outputs": [],
      "source": [
        "PROMPT = \"Vertex AI の管理対象データセットとは何ですか?\"\n",
        "PROMPT_FOLLOWUP = \"どのような種類のデータを使用できますか?\""
      ]
    },
    {
      "cell_type": "markdown",
      "metadata": {
        "id": "b4e8fa97a38e"
      },
      "source": [
        "### 接地なしのチャット セッション\n",
        "\n",
        "チャット セッションを開始し、接地なしで LLM にメッセージを送信します。"
      ]
    },
    {
      "cell_type": "code",
      "execution_count": null,
      "metadata": {
        "id": "f64690348d29"
      },
      "outputs": [],
      "source": [
        "chat = model.start_chat()\n",
        "\n",
        "response = chat.send_message(PROMPT)\n",
        "display(Markdown(response.text))\n",
        "\n",
        "response = chat.send_message(PROMPT_FOLLOWUP)\n",
        "display(Markdown(response.text))"
      ]
    },
    {
      "cell_type": "markdown",
      "metadata": {
        "id": "b59783e4f1ce"
      },
      "source": [
        "### Google 検索結果に基づいたチャット セッション\n",
        "\n",
        "これで、`tools` キーワード引数に `grounding.GoogleSearchRetrieval()` というグラウンディング ツールを追加して、チャット モデルに最初にプロンプ​​トを使用して Google 検索を実行し、次に Web 検索結果に基づいて回答を作成するように指示できます。"
      ]
    },
    {
      "cell_type": "code",
      "execution_count": null,
      "metadata": {
        "id": "58edb2bd860f"
      },
      "outputs": [],
      "source": [
        "chat = model.start_chat()\n",
        "tool = Tool.from_google_search_retrieval(grounding.GoogleSearchRetrieval())\n",
        "\n",
        "response = chat.send_message(PROMPT, tools=[tool])\n",
        "print_grounding_response(response)\n",
        "\n",
        "response = chat.send_message(PROMPT_FOLLOWUP, tools=[tool])\n",
        "print_grounding_response(response)"
      ]
    },
    {
      "cell_type": "markdown",
      "metadata": {
        "id": "87be7f661f14"
      },
      "source": [
        "### Vertex AI 検索結果に基づいたチャット セッション\n",
        "\n",
        "これで、`tools` キーワード引数と `grounding.VertexAISearch()` というグラウンディング ツールを追加して、チャット モデルに最初にカスタム データ ストア内で検索を実行し、次に関連ドキュメントに基づいて回答を作成するように指示できます。"
      ]
    },
    {
      "cell_type": "code",
      "execution_count": null,
      "metadata": {
        "id": "1a824202a8f0"
      },
      "outputs": [],
      "source": [
        "chat = model.start_chat()\n",
        "tool = Tool.from_retrieval(\n",
        "    preview_grounding.Retrieval(\n",
        "        preview_grounding.VertexAISearch(\n",
        "            datastore=DATA_STORE_ID,\n",
        "            project=DATA_STORE_PROJECT_ID,\n",
        "            location=DATA_STORE_REGION,\n",
        "        )\n",
        "    )\n",
        ")\n",
        "response = chat.send_message(PROMPT, tools=[tool])\n",
        "print_grounding_response(response)\n",
        "\n",
        "response = chat.send_message(PROMPT_FOLLOWUP, tools=[tool])\n",
        "print_grounding_response(response)"
      ]
    },
    {
      "cell_type": "markdown",
      "metadata": {
        "id": "TpV-iwP9qw9c"
      },
      "source": [
        "## クリーンアップ\n",
        "\n",
        "このノートブックで使用されているリソースに対して Google Cloud アカウントに課金されないようにするには、次の手順に従います。\n",
        "\n",
        "1. 不要な Google Cloud 課金を回避するには、[Google Cloud コンソール](https://console.cloud.google.com/) を使用して、不要なプロジェクトを削除します。詳細については、[プロジェクトの管理と削除](https://cloud.google.com/resource-manager/docs/creating-managing-projects) に関する Google Cloud ドキュメントをご覧ください。\n",
        "\n",
        "1. 既存の Google Cloud プロジェクトを使用した場合は、アカウントに課金されないように、作成したリソースを削除します。詳細については、[Vertex AI Search のデータストアからデータを削除する](https://cloud.google.com/generative-ai-app-builder/docs/delete-datastores) に関するドキュメントを参照してから、データストアを削除してください。\n",
        "1. Google Cloud Console で [Vertex AI Search and Conversation API](https://console.cloud.google.com/apis/api/discoveryengine.googleapis.com) と [Vertex AI API](https://console.cloud.google.com/apis/api/aiplatform.googleapis.com) を無効にします。"
      ]
    }
  ],
  "metadata": {
    "colab": {
      "collapsed_sections": [],
      "name": "intro-grounding-gemini.ipynb",
      "toc_visible": true
    },
    "kernelspec": {
      "display_name": "Python 3",
      "name": "python3"
    },
    "language_info": {
      "codemirror_mode": {
        "name": "ipython",
        "version": 3
      },
      "file_extension": ".py",
      "mimetype": "text/x-python",
      "name": "python",
      "nbconvert_exporter": "python",
      "pygments_lexer": "ipython3",
      "version": "3.9.6"
    }
  },
  "nbformat": 4,
  "nbformat_minor": 0
}
